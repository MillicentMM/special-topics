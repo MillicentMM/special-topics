{
 "cells": [
  {
   "cell_type": "code",
   "execution_count": 17,
   "id": "c8bcb83f",
   "metadata": {},
   "outputs": [
    {
     "name": "stdout",
     "output_type": "stream",
     "text": [
      "Requirement already satisfied: snscrape in c:\\users\\miley\\anaconda3\\lib\\site-packages (0.6.2.20230320)\n",
      "Requirement already satisfied: requests[socks] in c:\\users\\miley\\anaconda3\\lib\\site-packages (from snscrape) (2.28.1)\n",
      "Requirement already satisfied: beautifulsoup4 in c:\\users\\miley\\anaconda3\\lib\\site-packages (from snscrape) (4.11.1)\n",
      "Requirement already satisfied: lxml in c:\\users\\miley\\anaconda3\\lib\\site-packages (from snscrape) (4.9.1)\n",
      "Requirement already satisfied: filelock in c:\\users\\miley\\anaconda3\\lib\\site-packages (from snscrape) (3.6.0)\n",
      "Requirement already satisfied: soupsieve>1.2 in c:\\users\\miley\\anaconda3\\lib\\site-packages (from beautifulsoup4->snscrape) (2.3.1)\n",
      "Requirement already satisfied: certifi>=2017.4.17 in c:\\users\\miley\\anaconda3\\lib\\site-packages (from requests[socks]->snscrape) (2022.9.14)\n",
      "Requirement already satisfied: idna<4,>=2.5 in c:\\users\\miley\\anaconda3\\lib\\site-packages (from requests[socks]->snscrape) (3.3)\n",
      "Requirement already satisfied: charset-normalizer<3,>=2 in c:\\users\\miley\\anaconda3\\lib\\site-packages (from requests[socks]->snscrape) (2.0.4)\n",
      "Requirement already satisfied: urllib3<1.27,>=1.21.1 in c:\\users\\miley\\anaconda3\\lib\\site-packages (from requests[socks]->snscrape) (1.26.11)\n",
      "Requirement already satisfied: PySocks!=1.5.7,>=1.5.6 in c:\\users\\miley\\anaconda3\\lib\\site-packages (from requests[socks]->snscrape) (1.7.1)\n",
      "Note: you may need to restart the kernel to use updated packages.\n"
     ]
    }
   ],
   "source": [
    "pip install snscrape"
   ]
  },
  {
   "cell_type": "code",
   "execution_count": 18,
   "id": "e4257750",
   "metadata": {},
   "outputs": [],
   "source": [
    "import pandas as pd\n",
    "from tqdm.notebook import tqdm\n",
    "import snscrape.modules.twitter as sntwitter"
   ]
  },
  {
   "cell_type": "code",
   "execution_count": 19,
   "id": "0a1ed49d",
   "metadata": {},
   "outputs": [
    {
     "name": "stderr",
     "output_type": "stream",
     "text": [
      "C:\\Users\\Miley\\AppData\\Local\\Temp\\ipykernel_15664\\2567615817.py:10: DeprecatedFeatureWarning: content is deprecated, use rawContent instead\n",
      "  tweets.append([tweet.date, tweet.id, tweet.content, tweet.user.username])\n"
     ]
    }
   ],
   "source": [
    "import pandas as pd\n",
    "import snscrape.modules.twitter as sntwitter\n",
    "\n",
    "max_tweets = 20\n",
    "tweets = []\n",
    "\n",
    "for i, tweet in enumerate(sntwitter.TwitterSearchScraper('from:@bbcswahili').get_items()):\n",
    "    if i >= max_tweets:\n",
    "        break\n",
    "    tweets.append([tweet.date, tweet.id, tweet.content, tweet.user.username])\n",
    "\n",
    "df = pd.DataFrame(tweets, columns=['Datetime', 'Tweet Id', 'Content', 'Username'])\n"
   ]
  },
  {
   "cell_type": "code",
   "execution_count": 20,
   "id": "93a16e6b",
   "metadata": {},
   "outputs": [
    {
     "name": "stdout",
     "output_type": "stream",
     "text": [
      "                     id                                            content\n",
      "0   1645335852703444992  Bibi harusi mbioni baada ya kufyatua risasi ka...\n",
      "1   1645328275852460032  China yafanya mazoezi ya 'kuizingira' Taiwan k...\n",
      "2   1645320776105484288  Maandamano makubwa dhidi ya serikali yaendelea...\n",
      "3   1645313456650743810  Arshad Sharif :Mke wa mwandishi wa habari wa P...\n",
      "4   1645305652665827330  Dalili za ugonjwa wa moyo ambazo  simu yako in...\n",
      "5   1645298084736368640  Miili miwili yapatikana baada ya jengo la Mars...\n",
      "6   1645290519965097984  Ulimwengu ulivyoshtushwa na hatua ya kunyongwa...\n",
      "7   1645283010265198592  Video yaonesha maporomoko ya theluji katika mi...\n",
      "8   1645275433368256512  Vita vya Ukraine: Nani alivujisha nyaraka za s...\n",
      "9   1645268845207212033  Rais wa Tanzania Samia Suluhu avunja Bodi ya T...\n",
      "10  1645260360566337536  Tetesi:Tottenham wameonesha  nia ya kumsajili ...\n",
      "11  1645162184438165505  Israel yashambulia maeneo mengi Syria baada ya...\n",
      "12  1645154671110107138  Aliyefichua eneo ambalo mamluki wa kundi la Wa...\n",
      "13  1645147097170161664  Iran yaweka kamera kunasa wanawake wanaotembea...\n",
      "14  1645139547636858884  Liverpool wanajiandaa kwa kila namna kwa msimu...\n",
      "15  1645132025911705601  Je Trump anaweza kubadili sifa mbaya zinazotok...\n",
      "16  1645124463279710211  Imam Walid Mahsas ambaye hakukatiza Swala ya T...\n",
      "17  1645116944645775361  China yafanya mazoezi ya kushambulia 'maeneo m...\n",
      "18  1645109355459624963  Kijana wa kimisri ajinyakulia mamilioni katika...\n",
      "19  1645101793997725698  'Hata Kristo hajaokolewa', Fahamu misemo 7 maa...\n"
     ]
    }
   ],
   "source": [
    "tweet_df = pd.DataFrame(tweets, columns=['date', 'id', 'content', 'username'])\n",
    "\n",
    "tweet_df = tweet_df.drop(['date', 'username'], axis=1)\n",
    "\n",
    "print(tweet_df)"
   ]
  },
  {
   "cell_type": "code",
   "execution_count": 21,
   "id": "3edf6355",
   "metadata": {},
   "outputs": [
    {
     "data": {
      "text/html": [
       "<div>\n",
       "<style scoped>\n",
       "    .dataframe tbody tr th:only-of-type {\n",
       "        vertical-align: middle;\n",
       "    }\n",
       "\n",
       "    .dataframe tbody tr th {\n",
       "        vertical-align: top;\n",
       "    }\n",
       "\n",
       "    .dataframe thead th {\n",
       "        text-align: right;\n",
       "    }\n",
       "</style>\n",
       "<table border=\"1\" class=\"dataframe\">\n",
       "  <thead>\n",
       "    <tr style=\"text-align: right;\">\n",
       "      <th></th>\n",
       "      <th>id</th>\n",
       "      <th>content</th>\n",
       "    </tr>\n",
       "  </thead>\n",
       "  <tbody>\n",
       "    <tr>\n",
       "      <th>0</th>\n",
       "      <td>1645335852703444992</td>\n",
       "      <td>Bibi harusi mbioni baada ya kufyatua risasi ka...</td>\n",
       "    </tr>\n",
       "    <tr>\n",
       "      <th>1</th>\n",
       "      <td>1645328275852460032</td>\n",
       "      <td>China yafanya mazoezi ya 'kuizingira' Taiwan k...</td>\n",
       "    </tr>\n",
       "    <tr>\n",
       "      <th>2</th>\n",
       "      <td>1645320776105484288</td>\n",
       "      <td>Maandamano makubwa dhidi ya serikali yaendelea...</td>\n",
       "    </tr>\n",
       "    <tr>\n",
       "      <th>3</th>\n",
       "      <td>1645313456650743810</td>\n",
       "      <td>Arshad Sharif :Mke wa mwandishi wa habari wa P...</td>\n",
       "    </tr>\n",
       "    <tr>\n",
       "      <th>4</th>\n",
       "      <td>1645305652665827330</td>\n",
       "      <td>Dalili za ugonjwa wa moyo ambazo  simu yako in...</td>\n",
       "    </tr>\n",
       "    <tr>\n",
       "      <th>5</th>\n",
       "      <td>1645298084736368640</td>\n",
       "      <td>Miili miwili yapatikana baada ya jengo la Mars...</td>\n",
       "    </tr>\n",
       "    <tr>\n",
       "      <th>6</th>\n",
       "      <td>1645290519965097984</td>\n",
       "      <td>Ulimwengu ulivyoshtushwa na hatua ya kunyongwa...</td>\n",
       "    </tr>\n",
       "    <tr>\n",
       "      <th>7</th>\n",
       "      <td>1645283010265198592</td>\n",
       "      <td>Video yaonesha maporomoko ya theluji katika mi...</td>\n",
       "    </tr>\n",
       "    <tr>\n",
       "      <th>8</th>\n",
       "      <td>1645275433368256512</td>\n",
       "      <td>Vita vya Ukraine: Nani alivujisha nyaraka za s...</td>\n",
       "    </tr>\n",
       "    <tr>\n",
       "      <th>9</th>\n",
       "      <td>1645268845207212033</td>\n",
       "      <td>Rais wa Tanzania Samia Suluhu avunja Bodi ya T...</td>\n",
       "    </tr>\n",
       "    <tr>\n",
       "      <th>10</th>\n",
       "      <td>1645260360566337536</td>\n",
       "      <td>Tetesi:Tottenham wameonesha  nia ya kumsajili ...</td>\n",
       "    </tr>\n",
       "    <tr>\n",
       "      <th>11</th>\n",
       "      <td>1645162184438165505</td>\n",
       "      <td>Israel yashambulia maeneo mengi Syria baada ya...</td>\n",
       "    </tr>\n",
       "    <tr>\n",
       "      <th>12</th>\n",
       "      <td>1645154671110107138</td>\n",
       "      <td>Aliyefichua eneo ambalo mamluki wa kundi la Wa...</td>\n",
       "    </tr>\n",
       "    <tr>\n",
       "      <th>13</th>\n",
       "      <td>1645147097170161664</td>\n",
       "      <td>Iran yaweka kamera kunasa wanawake wanaotembea...</td>\n",
       "    </tr>\n",
       "    <tr>\n",
       "      <th>14</th>\n",
       "      <td>1645139547636858884</td>\n",
       "      <td>Liverpool wanajiandaa kwa kila namna kwa msimu...</td>\n",
       "    </tr>\n",
       "    <tr>\n",
       "      <th>15</th>\n",
       "      <td>1645132025911705601</td>\n",
       "      <td>Je Trump anaweza kubadili sifa mbaya zinazotok...</td>\n",
       "    </tr>\n",
       "    <tr>\n",
       "      <th>16</th>\n",
       "      <td>1645124463279710211</td>\n",
       "      <td>Imam Walid Mahsas ambaye hakukatiza Swala ya T...</td>\n",
       "    </tr>\n",
       "    <tr>\n",
       "      <th>17</th>\n",
       "      <td>1645116944645775361</td>\n",
       "      <td>China yafanya mazoezi ya kushambulia 'maeneo m...</td>\n",
       "    </tr>\n",
       "    <tr>\n",
       "      <th>18</th>\n",
       "      <td>1645109355459624963</td>\n",
       "      <td>Kijana wa kimisri ajinyakulia mamilioni katika...</td>\n",
       "    </tr>\n",
       "    <tr>\n",
       "      <th>19</th>\n",
       "      <td>1645101793997725698</td>\n",
       "      <td>'Hata Kristo hajaokolewa', Fahamu misemo 7 maa...</td>\n",
       "    </tr>\n",
       "  </tbody>\n",
       "</table>\n",
       "</div>"
      ],
      "text/plain": [
       "                     id                                            content\n",
       "0   1645335852703444992  Bibi harusi mbioni baada ya kufyatua risasi ka...\n",
       "1   1645328275852460032  China yafanya mazoezi ya 'kuizingira' Taiwan k...\n",
       "2   1645320776105484288  Maandamano makubwa dhidi ya serikali yaendelea...\n",
       "3   1645313456650743810  Arshad Sharif :Mke wa mwandishi wa habari wa P...\n",
       "4   1645305652665827330  Dalili za ugonjwa wa moyo ambazo  simu yako in...\n",
       "5   1645298084736368640  Miili miwili yapatikana baada ya jengo la Mars...\n",
       "6   1645290519965097984  Ulimwengu ulivyoshtushwa na hatua ya kunyongwa...\n",
       "7   1645283010265198592  Video yaonesha maporomoko ya theluji katika mi...\n",
       "8   1645275433368256512  Vita vya Ukraine: Nani alivujisha nyaraka za s...\n",
       "9   1645268845207212033  Rais wa Tanzania Samia Suluhu avunja Bodi ya T...\n",
       "10  1645260360566337536  Tetesi:Tottenham wameonesha  nia ya kumsajili ...\n",
       "11  1645162184438165505  Israel yashambulia maeneo mengi Syria baada ya...\n",
       "12  1645154671110107138  Aliyefichua eneo ambalo mamluki wa kundi la Wa...\n",
       "13  1645147097170161664  Iran yaweka kamera kunasa wanawake wanaotembea...\n",
       "14  1645139547636858884  Liverpool wanajiandaa kwa kila namna kwa msimu...\n",
       "15  1645132025911705601  Je Trump anaweza kubadili sifa mbaya zinazotok...\n",
       "16  1645124463279710211  Imam Walid Mahsas ambaye hakukatiza Swala ya T...\n",
       "17  1645116944645775361  China yafanya mazoezi ya kushambulia 'maeneo m...\n",
       "18  1645109355459624963  Kijana wa kimisri ajinyakulia mamilioni katika...\n",
       "19  1645101793997725698  'Hata Kristo hajaokolewa', Fahamu misemo 7 maa..."
      ]
     },
     "execution_count": 21,
     "metadata": {},
     "output_type": "execute_result"
    }
   ],
   "source": [
    "tweet_df.to_csv(\"Swahilii.csv\", index = False)\n",
    "tweet_df"
   ]
  },
  {
   "cell_type": "code",
   "execution_count": 22,
   "id": "1d331640",
   "metadata": {},
   "outputs": [
    {
     "name": "stdout",
     "output_type": "stream",
     "text": [
      "                     id                                            content\n",
      "0   1645335852703444992  Bibi harusi mbioni baada ya kufyatua risasi ka...\n",
      "1   1645328275852460032  China yafanya mazoezi ya 'kuizingira' Taiwan k...\n",
      "2   1645320776105484288  Maandamano makubwa dhidi ya serikali yaendelea...\n",
      "3   1645313456650743810  Arshad Sharif :Mke wa mwandishi wa habari wa P...\n",
      "4   1645305652665827330  Dalili za ugonjwa wa moyo ambazo  simu yako in...\n",
      "5   1645298084736368640  Miili miwili yapatikana baada ya jengo la Mars...\n",
      "6   1645290519965097984  Ulimwengu ulivyoshtushwa na hatua ya kunyongwa...\n",
      "7   1645283010265198592  Video yaonesha maporomoko ya theluji katika mi...\n",
      "8   1645275433368256512  Vita vya Ukraine: Nani alivujisha nyaraka za s...\n",
      "9   1645268845207212033  Rais wa Tanzania Samia Suluhu avunja Bodi ya T...\n",
      "10  1645260360566337536  Tetesi:Tottenham wameonesha  nia ya kumsajili ...\n",
      "11  1645162184438165505  Israel yashambulia maeneo mengi Syria baada ya...\n",
      "12  1645154671110107138  Aliyefichua eneo ambalo mamluki wa kundi la Wa...\n",
      "13  1645147097170161664  Iran yaweka kamera kunasa wanawake wanaotembea...\n",
      "14  1645139547636858884  Liverpool wanajiandaa kwa kila namna kwa msimu...\n",
      "15  1645132025911705601  Je Trump anaweza kubadili sifa mbaya zinazotok...\n",
      "16  1645124463279710211  Imam Walid Mahsas ambaye hakukatiza Swala ya T...\n",
      "17  1645116944645775361  China yafanya mazoezi ya kushambulia 'maeneo m...\n",
      "18  1645109355459624963  Kijana wa kimisri ajinyakulia mamilioni katika...\n",
      "19  1645101793997725698  'Hata Kristo hajaokolewa', Fahamu misemo 7 maa...\n"
     ]
    }
   ],
   "source": [
    "import re\n",
    "url_pattern = re.compile(r'https?://\\S+')\n",
    "tweet_df['content'] = tweet_df['content'].apply(lambda x: url_pattern.sub('', x))\n",
    "print(tweet_df)\n"
   ]
  },
  {
   "cell_type": "code",
   "execution_count": 23,
   "id": "02e57952",
   "metadata": {},
   "outputs": [
    {
     "name": "stdout",
     "output_type": "stream",
     "text": [
      "                     id                                            content\n",
      "0   1645335852703444992  Bibi harusi mbioni baada ya kufyatua risasi ka...\n",
      "1   1645328275852460032  China yafanya mazoezi ya kuizingira Taiwan kat...\n",
      "2   1645320776105484288  Maandamano makubwa dhidi ya serikali yaendelea...\n",
      "3   1645313456650743810  Arshad Sharif Mke wa mwandishi wa habari wa Pa...\n",
      "4   1645305652665827330  Dalili za ugonjwa wa moyo ambazo  simu yako in...\n",
      "5   1645298084736368640  Miili miwili yapatikana baada ya jengo la Mars...\n",
      "6   1645290519965097984  Ulimwengu ulivyoshtushwa na hatua ya kunyongwa...\n",
      "7   1645283010265198592  Video yaonesha maporomoko ya theluji katika mi...\n",
      "8   1645275433368256512  Vita vya Ukraine Nani alivujisha nyaraka za si...\n",
      "9   1645268845207212033  Rais wa Tanzania Samia Suluhu avunja Bodi ya T...\n",
      "10  1645260360566337536  TetesiTottenham wameonesha  nia ya kumsajili w...\n",
      "11  1645162184438165505  Israel yashambulia maeneo mengi Syria baada ya...\n",
      "12  1645154671110107138  Aliyefichua eneo ambalo mamluki wa kundi la Wa...\n",
      "13  1645147097170161664  Iran yaweka kamera kunasa wanawake wanaotembea...\n",
      "14  1645139547636858884  Liverpool wanajiandaa kwa kila namna kwa msimu...\n",
      "15  1645132025911705601  Je Trump anaweza kubadili sifa mbaya zinazotok...\n",
      "16  1645124463279710211  Imam Walid Mahsas ambaye hakukatiza Swala ya T...\n",
      "17  1645116944645775361  China yafanya mazoezi ya kushambulia maeneo mu...\n",
      "18  1645109355459624963  Kijana wa kimisri ajinyakulia mamilioni katika...\n",
      "19  1645101793997725698  Hata Kristo hajaokolewa Fahamu misemo 7 maaruf...\n"
     ]
    }
   ],
   "source": [
    "import re\n",
    "special_char_pattern = re.compile(r'[^a-zA-Z0-9\\s]')\n",
    "tweet_df['content'] = tweet_df['content'].apply(lambda x: special_char_pattern.sub('', x))\n",
    "print(tweet_df)"
   ]
  },
  {
   "cell_type": "code",
   "execution_count": 24,
   "id": "7437901c",
   "metadata": {},
   "outputs": [
    {
     "name": "stdout",
     "output_type": "stream",
     "text": [
      "                     id                                            content\n",
      "0   1645335852703444992  bibi harusi mbioni baada ya kufyatua risasi ka...\n",
      "1   1645328275852460032  china yafanya mazoezi ya kuizingira taiwan kat...\n",
      "2   1645320776105484288  maandamano makubwa dhidi ya serikali yaendelea...\n",
      "3   1645313456650743810  arshad sharif mke wa mwandishi wa habari wa pa...\n",
      "4   1645305652665827330  dalili za ugonjwa wa moyo ambazo  simu yako in...\n",
      "5   1645298084736368640  miili miwili yapatikana baada ya jengo la mars...\n",
      "6   1645290519965097984  ulimwengu ulivyoshtushwa na hatua ya kunyongwa...\n",
      "7   1645283010265198592  video yaonesha maporomoko ya theluji katika mi...\n",
      "8   1645275433368256512  vita vya ukraine nani alivujisha nyaraka za si...\n",
      "9   1645268845207212033  rais wa tanzania samia suluhu avunja bodi ya t...\n",
      "10  1645260360566337536  tetesitottenham wameonesha  nia ya kumsajili w...\n",
      "11  1645162184438165505  israel yashambulia maeneo mengi syria baada ya...\n",
      "12  1645154671110107138  aliyefichua eneo ambalo mamluki wa kundi la wa...\n",
      "13  1645147097170161664  iran yaweka kamera kunasa wanawake wanaotembea...\n",
      "14  1645139547636858884  liverpool wanajiandaa kwa kila namna kwa msimu...\n",
      "15  1645132025911705601  je trump anaweza kubadili sifa mbaya zinazotok...\n",
      "16  1645124463279710211  imam walid mahsas ambaye hakukatiza swala ya t...\n",
      "17  1645116944645775361  china yafanya mazoezi ya kushambulia maeneo mu...\n",
      "18  1645109355459624963  kijana wa kimisri ajinyakulia mamilioni katika...\n",
      "19  1645101793997725698  hata kristo hajaokolewa fahamu misemo 7 maaruf...\n"
     ]
    }
   ],
   "source": [
    "tweet_df['content'] = tweet_df['content'].str.lower()\n",
    "\n",
    "print(tweet_df)\n"
   ]
  },
  {
   "cell_type": "code",
   "execution_count": 25,
   "id": "01fd593d",
   "metadata": {},
   "outputs": [
    {
     "name": "stdout",
     "output_type": "stream",
     "text": [
      "maandamano makubwa dhidi ya serikali yaendelea kufanyika katika jimbo la amhara nchini ethiopia\n",
      " \n"
     ]
    }
   ],
   "source": [
    "tweet = tweet_df['content'][2]\n",
    "print(tweet)"
   ]
  },
  {
   "cell_type": "code",
   "execution_count": 26,
   "id": "6e7ff325",
   "metadata": {},
   "outputs": [
    {
     "data": {
      "text/plain": [
       "0     [bibi, harusi, mbioni, baada, kufyatua, risasi...\n",
       "1     [china, yafanya, mazoezi, kuizingira, taiwan, ...\n",
       "2     [maandamano, makubwa, dhidi, serikali, yaendel...\n",
       "3     [arshad, sharif, mke, mwandishi, habari, pakis...\n",
       "4     [dalili, ugonjwa, moyo, ambazo, simu, yako, in...\n",
       "5     [miili, miwili, yapatikana, baada, jengo, la, ...\n",
       "6     [ulimwengu, ulivyoshtushwa, hatua, kunyongwa, ...\n",
       "7     [video, yaonesha, maporomoko, theluji, katika,...\n",
       "8     [vita, vya, ukrain, nani, alivujisha, nyaraka,...\n",
       "9     [rai, tanzania, samia, suluhu, avunja, bodi, trc]\n",
       "10    [tetesitottenham, wameonesha, nia, kumsajili, ...\n",
       "11    [israel, yashambulia, maeneo, mengi, syria, ba...\n",
       "12    [aliyefichua, eneo, ambalo, mamluki, kundi, la...\n",
       "13    [iran, yaweka, kamera, kunasa, wanawak, wanaot...\n",
       "14    [liverpool, wanajiandaa, kila, namna, msimu, m...\n",
       "15    [je, trump, anaweza, kubadili, sifa, mbaya, zi...\n",
       "16    [imam, walid, mahsa, ambay, hakukatiza, swala,...\n",
       "17    [china, yafanya, mazoezi, kushambulia, maeneo,...\n",
       "18    [kijana, kimisri, ajinyakulia, mamilioni, kati...\n",
       "19    [hata, kristo, hajaokolewa, fahamu, misemo, 7,...\n",
       "Name: content, dtype: object"
      ]
     },
     "execution_count": 26,
     "metadata": {},
     "output_type": "execute_result"
    }
   ],
   "source": [
    "import re\n",
    "from nltk.stem import PorterStemmer\n",
    "    \n",
    "tokenized_tweet = tweet_df['content'].apply(lambda x: x.split())\n",
    "\n",
    "stemmer = PorterStemmer()\n",
    "\n",
    "stemmed_tweet = tokenized_tweet.apply(lambda x: [stemmer.stem(token) for token in x])\n",
    "\n",
    "swahili_stop_words = ['ya', 'na', 'kwa', 'ni', 'wa', 'wake', 'ya', 'yake', 'yangu', 'yao', 'yeye', 'yote', 'yoyote', 'yule', 'za', 'zaidi', 'zake', 'zangu', 'za', 'zipi', 'zote']\n",
    "filtered_tweet = stemmed_tweet.apply(lambda x: [word for word in x if word not in swahili_stop_words])\n",
    "filtered_tweet"
   ]
  },
  {
   "cell_type": "code",
   "execution_count": 29,
   "id": "eab9f946",
   "metadata": {},
   "outputs": [
    {
     "name": "stdout",
     "output_type": "stream",
     "text": [
      "maandamano makubwa dhidi ya serikali yaendelea kufanyika katika jimbo la amhara nchini ethiopia\n",
      " \n"
     ]
    }
   ],
   "source": [
    "tweet = tweet_df['content'][2]\n",
    "print(tweet)"
   ]
  },
  {
   "cell_type": "code",
   "execution_count": null,
   "id": "28536969",
   "metadata": {},
   "outputs": [],
   "source": [
    "tweet_df.to_csv('clean tweets.csv', index=False)"
   ]
  },
  {
   "cell_type": "code",
   "execution_count": 3,
   "id": "bc1679d4",
   "metadata": {},
   "outputs": [
    {
     "name": "stdout",
     "output_type": "stream",
     "text": [
      "Accuracy: 0.75\n"
     ]
    }
   ],
   "source": [
    "import pandas as pd\n",
    "from sklearn.feature_extraction.text import CountVectorizer\n",
    "from sklearn.model_selection import train_test_split\n",
    "from sklearn.naive_bayes import MultinomialNB\n",
    "\n",
    "df = pd.read_csv('labelled tweets.csv')\n",
    "\n",
    "def get_char_ngrams(word, n=3):\n",
    "    return [word[i:i+n] for i in range(len(word)-n+1)]\n",
    "\n",
    "char_vectorizer = CountVectorizer(analyzer=get_char_ngrams)\n",
    "char_features = char_vectorizer.fit_transform(df['content'])\n",
    "X_train, X_test, y_train, y_test = train_test_split(char_features, df['label'], test_size=0.2, random_state=42)\n",
    "clf = MultinomialNB()\n",
    "clf.fit(X_train, y_train)\n",
    "\n",
    "accuracy = clf.score(X_test, y_test)\n",
    "print(f\"Accuracy: {accuracy}\")\n",
    "\n"
   ]
  },
  {
   "cell_type": "code",
   "execution_count": 5,
   "id": "97797a8b",
   "metadata": {},
   "outputs": [
    {
     "name": "stdout",
     "output_type": "stream",
     "text": [
      "1\n"
     ]
    }
   ],
   "source": [
    "def classify_text(text):\n",
    "    features = char_vectorizer.transform([text])\n",
    "    prediction = clf.predict(features)\n",
    "    return prediction[0]\n",
    "new_text = \"rais wa tanzania samia suluhu avunja bodi ya trc\"\n",
    "prediction = classify_text(new_text)\n",
    "print(prediction)"
   ]
  },
  {
   "cell_type": "code",
   "execution_count": null,
   "id": "654428f5",
   "metadata": {},
   "outputs": [],
   "source": []
  }
 ],
 "metadata": {
  "kernelspec": {
   "display_name": "Python 3 (ipykernel)",
   "language": "python",
   "name": "python3"
  },
  "language_info": {
   "codemirror_mode": {
    "name": "ipython",
    "version": 3
   },
   "file_extension": ".py",
   "mimetype": "text/x-python",
   "name": "python",
   "nbconvert_exporter": "python",
   "pygments_lexer": "ipython3",
   "version": "3.9.13"
  }
 },
 "nbformat": 4,
 "nbformat_minor": 5
}
